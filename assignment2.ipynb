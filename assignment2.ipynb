{
  "nbformat": 4,
  "nbformat_minor": 0,
  "metadata": {
    "colab": {
      "provenance": [],
      "authorship_tag": "ABX9TyP8o6LzxMy18okhvG2t8uXd",
      "include_colab_link": true
    },
    "kernelspec": {
      "name": "python3",
      "display_name": "Python 3"
    },
    "language_info": {
      "name": "python"
    }
  },
  "cells": [
    {
      "cell_type": "markdown",
      "metadata": {
        "id": "view-in-github",
        "colab_type": "text"
      },
      "source": [
        "<a href=\"https://colab.research.google.com/github/sanjaydubey2105/assign/blob/main/assignment2.ipynb\" target=\"_parent\"><img src=\"https://colab.research.google.com/assets/colab-badge.svg\" alt=\"Open In Colab\"/></a>"
      ]
    },
    {
      "cell_type": "markdown",
      "source": [
        "Q1. Explain with an example each when to use a for loop and a while loop."
      ],
      "metadata": {
        "id": "jNLfMYgwFedp"
      }
    },
    {
      "cell_type": "markdown",
      "source": [
        "For Loop\n",
        "\n",
        "Use a \"for\" loop when you know the number of iterations in advance. It iterates over a sequence (like a list, tuple, or string).\n",
        "\n",
        "Example:\n",
        "\n",
        "\n",
        "# Print numbers from 0 to 9\n",
        "for i in range(10):\n",
        "  print(i)\n",
        "\n",
        "Use code with caution\n",
        "This loop iterates 10 times, printing numbers from 0 to 9.\n",
        "\n",
        "While Loop\n",
        "\n",
        "Use a \"while\" loop when you don't know the number of iterations beforehand. The loop continues as long as a condition is True.\n",
        "\n",
        "Example:\n",
        "\n",
        "\n",
        "# Keep asking for input until the user enters \"quit\"\n",
        "user_input = \"\"\n",
        "while user_input != \"quit\":\n",
        "  user_input = input(\"Enter a word (or 'quit' to exit): \")\n",
        "  print(\"You entered:\", user_input)"
      ],
      "metadata": {
        "id": "kzKWimlBF05_"
      }
    },
    {
      "cell_type": "markdown",
      "source": [
        "Q2. Write a python program to print the sum and product of the first 10 natural numbers using for\n",
        "and while loop.\n",
        "Q3. Create a python program to compute the electricity bill for a household.\n",
        "\n",
        "Q4. Create a list of numbers from 1 to 100. Use for loop and while loop to calculate the cube of each\n",
        "number and if the cube of that number is divisible by 4 or 5 then append that number in a list and print\n",
        "that list.\n",
        "The per-unit charges in rupees are as follows: For the first 100 units, the user will be charged Rs. 4.5 per\n",
        "unit, for the next 100 units, the user will be charged Rs. 6 per unit, and for the next 100 units, the user will\n",
        "be charged Rs. 10 per unit, After 300 units and above the user will be charged Rs. 20 per unit.\n",
        "You are required to take the units of electricity consumed in a month from the user as input.\n",
        "Your program must pass this test case: when the unit of electricity consumed by the user in a month is\n",
        "310, the total electricity bill should be 2250.\n",
        "\n",
        "Q5. Write a program to filter count vowels in the below-given string.\n",
        "string = \"I want to become a data scientist\""
      ],
      "metadata": {
        "id": "tpgIyvxFF1--"
      }
    },
    {
      "cell_type": "markdown",
      "source": [
        "string = \"I want to become a data scientist\"\n",
        "vowels = \"aeiouAEIOU\"\n",
        "vowel_count = 0\n",
        "\n",
        "for char in string:\n",
        "  if char in vowels:\n",
        "    vowel_count += 1\n",
        "\n",
        "print(\"Number of vowels:\", vowel_count)\n",
        "Use code with caution\n",
        "How it works:\n",
        "\n",
        "Initialization:\n",
        "\n",
        "string: Stores the input string.\n",
        "vowels: Stores all possible vowels (both uppercase and lowercase).\n",
        "vowel_count: Initialized to 0 to store the count of vowels.\n",
        "Iteration:\n",
        "\n",
        "The for loop iterates through each character (char) in the string.\n",
        "Checking for Vowels:\n",
        "\n",
        "Inside the loop, the if condition checks if the current character (char) is present in the vowels string.\n",
        "Counting Vowels:\n",
        "\n",
        "If the character is a vowel, the vowel_count is incremented by 1.\n",
        "Output:\n",
        "\n",
        "After processing all characters in the string, the print statement displays the final vowel_count, which represents the total number of vowels in the string."
      ],
      "metadata": {
        "id": "iQxzUZaTGU_B"
      }
    }
  ]
}